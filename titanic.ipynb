{
  "nbformat": 4,
  "nbformat_minor": 0,
  "metadata": {
    "colab": {
      "name": "titanic.ipynb",
      "provenance": [],
      "authorship_tag": "ABX9TyP4ptcxewEMtQ+aV1RFxueZ",
      "include_colab_link": true
    },
    "kernelspec": {
      "name": "python3",
      "display_name": "Python 3"
    }
  },
  "cells": [
    {
      "cell_type": "markdown",
      "metadata": {
        "id": "view-in-github",
        "colab_type": "text"
      },
      "source": [
        "<a href=\"https://colab.research.google.com/github/kop57890/acerml/blob/main/titanic.ipynb\" target=\"_parent\"><img src=\"https://colab.research.google.com/assets/colab-badge.svg\" alt=\"Open In Colab\"/></a>"
      ]
    },
    {
      "cell_type": "code",
      "metadata": {
        "id": "jBOD2gQmC16Q",
        "colab": {
          "base_uri": "https://localhost:8080/"
        },
        "outputId": "3fa74c11-0fc8-4db9-e84a-08177fa42d16"
      },
      "source": [
        "from urllib.request import urlretrieve\n",
        "url = \"https://github.com/Elwing-Chou/acerml/raw/main/titanic/train.csv\"\n",
        "urlretrieve(url, \"train.csv\")\n",
        "url = \"https://github.com/Elwing-Chou/acerml/raw/main/titanic/test.csv\"\n",
        "urlretrieve(url, \"test.csv\")"
      ],
      "execution_count": 1,
      "outputs": [
        {
          "output_type": "execute_result",
          "data": {
            "text/plain": [
              "('test.csv', <http.client.HTTPMessage at 0x7f7c096cb6a0>)"
            ]
          },
          "metadata": {
            "tags": []
          },
          "execution_count": 1
        }
      ]
    },
    {
      "cell_type": "code",
      "metadata": {
        "id": "_Yh4xZGEC8P3"
      },
      "source": [
        "import pandas as pd\n",
        "train_df = pd.read_csv(\"train.csv\", encoding=\"utf-8\")\n",
        "test_df = pd.read_csv(\"test.csv\", encoding=\"utf-8\")"
      ],
      "execution_count": 3,
      "outputs": []
    },
    {
      "cell_type": "code",
      "metadata": {
        "id": "yMznTTRrIl5C"
      },
      "source": [
        "datas = pd.concat([train_df, test_df], axis = 0, ignore_index=True)\n",
        "datas = datas.drop([\"PassengerId\", \"Survived\"], axis = 1)"
      ],
      "execution_count": 5,
      "outputs": []
    },
    {
      "cell_type": "code",
      "metadata": {
        "id": "5eDNwry_JF0b",
        "colab": {
          "base_uri": "https://localhost:8080/"
        },
        "outputId": "dec9be92-9f99-4c15-b93c-e5241d390b03"
      },
      "source": [
        "s = datas.isna().sum()\n",
        "s[s > 0].sort_values(ascending=False)"
      ],
      "execution_count": 6,
      "outputs": [
        {
          "output_type": "execute_result",
          "data": {
            "text/plain": [
              "Cabin       1014\n",
              "Age          263\n",
              "Embarked       2\n",
              "Fare           1\n",
              "dtype: int64"
            ]
          },
          "metadata": {
            "tags": []
          },
          "execution_count": 6
        }
      ]
    },
    {
      "cell_type": "code",
      "metadata": {
        "id": "eWW4LX0lKLN1"
      },
      "source": [
        "most = datas[\"Embarked\"].value_counts().idxmax()\n",
        "datas[\"Embarked\"] = datas[\"Embarked\"].fillna(most)"
      ],
      "execution_count": 7,
      "outputs": []
    },
    {
      "cell_type": "code",
      "metadata": {
        "id": "u-MiUkYZKiOv",
        "colab": {
          "base_uri": "https://localhost:8080/"
        },
        "outputId": "bd91ac5f-3dcd-4af4-d67d-ca71baee335a"
      },
      "source": [
        "med = datas.median().drop([\"Pclass\"])\n",
        "datas = datas.fillna(med)\n",
        "s = datas.isna().sum()\n",
        "s[s > 0].sort_values(ascending=False)"
      ],
      "execution_count": 8,
      "outputs": [
        {
          "output_type": "execute_result",
          "data": {
            "text/plain": [
              "Cabin    1014\n",
              "dtype: int64"
            ]
          },
          "metadata": {
            "tags": []
          },
          "execution_count": 8
        }
      ]
    },
    {
      "cell_type": "code",
      "metadata": {
        "id": "AsCMLjdIMYSf",
        "colab": {
          "base_uri": "https://localhost:8080/"
        },
        "outputId": "f4862180-a23c-4a52-9af6-5df4fc58acef"
      },
      "source": [
        "def cabinflow(c):\n",
        "  if pd.isna(c):\n",
        "    return c\n",
        "  else:\n",
        "    return c[0]\n",
        "datas[\"Cabin\"] = datas[\"Cabin\"].apply(cabinflow)\n",
        "datas[\"Cabin\"].value_counts()"
      ],
      "execution_count": 9,
      "outputs": [
        {
          "output_type": "execute_result",
          "data": {
            "text/plain": [
              "C    94\n",
              "B    65\n",
              "D    46\n",
              "E    41\n",
              "A    22\n",
              "F    21\n",
              "G     5\n",
              "T     1\n",
              "Name: Cabin, dtype: int64"
            ]
          },
          "metadata": {
            "tags": []
          },
          "execution_count": 9
        }
      ]
    },
    {
      "cell_type": "code",
      "metadata": {
        "id": "3UfsJ0VbNIaX",
        "colab": {
          "base_uri": "https://localhost:8080/"
        },
        "outputId": "8b5147f6-1714-4d60-d4c0-89d9e42d0611"
      },
      "source": [
        "dic = datas[\"Ticket\"].value_counts()\n",
        "def ticketflow(t):\n",
        "  return dic[t]\n",
        "datas[\"Ticket\"] = datas[\"Ticket\"].apply(ticketflow)\n",
        "datas[\"Ticket\"].value_counts()"
      ],
      "execution_count": 10,
      "outputs": [
        {
          "output_type": "execute_result",
          "data": {
            "text/plain": [
              "1     713\n",
              "2     264\n",
              "3     147\n",
              "4      64\n",
              "7      35\n",
              "5      35\n",
              "6      24\n",
              "8      16\n",
              "11     11\n",
              "Name: Ticket, dtype: int64"
            ]
          },
          "metadata": {
            "tags": []
          },
          "execution_count": 10
        }
      ]
    },
    {
      "cell_type": "code",
      "metadata": {
        "id": "ez7IfyaPRsBG",
        "colab": {
          "base_uri": "https://localhost:8080/"
        },
        "outputId": "477bcb21-6806-4341-905d-4f9b27737291"
      },
      "source": [
        "def nameflow(n):\n",
        "  mid = n.split(\".\")[0].split(\",\")[-1]\n",
        "  return mid.strip()\n",
        "middle = datas[\"Name\"].apply(nameflow).value_counts()\n",
        "whitelist = middle.index[:4]\n",
        "\n",
        "def nameflow2(n):\n",
        "  mid = nameflow(n)\n",
        "  if mid in whitelist:\n",
        "    return mid\n",
        "  else:\n",
        "    return None\n",
        "datas[\"Name\"] = datas[\"Name\"].apply(nameflow2)\n",
        "datas[\"Name\"].value_counts()"
      ],
      "execution_count": 11,
      "outputs": [
        {
          "output_type": "execute_result",
          "data": {
            "text/plain": [
              "Mr        757\n",
              "Miss      260\n",
              "Mrs       197\n",
              "Master     61\n",
              "Name: Name, dtype: int64"
            ]
          },
          "metadata": {
            "tags": []
          },
          "execution_count": 11
        }
      ]
    },
    {
      "cell_type": "code",
      "metadata": {
        "id": "7gkLw70RTGmn"
      },
      "source": [
        "datas = pd.get_dummies(datas)\n",
        "datas = pd.get_dummies(datas, columns=[\"Pclass\"])"
      ],
      "execution_count": null,
      "outputs": []
    },
    {
      "cell_type": "code",
      "metadata": {
        "id": "CA-pUch1EiPg"
      },
      "source": [
        "datas[\"Family\"] = datas[\"SibSp\"] + datas[\"Parch\"]"
      ],
      "execution_count": 15,
      "outputs": []
    },
    {
      "cell_type": "code",
      "metadata": {
        "id": "4d9Mdqi9L-eK"
      },
      "source": [
        "x_train = datas.iloc[:len(train_df)]\n",
        "x_test = datas.iloc[len(train_df):]\n",
        "y_train = train_df[\"Survived\"]"
      ],
      "execution_count": 21,
      "outputs": []
    },
    {
      "cell_type": "code",
      "metadata": {
        "colab": {
          "base_uri": "https://localhost:8080/"
        },
        "id": "C2NyoR3eLebE",
        "outputId": "eff7d68c-1340-42d7-bd30-3903d851d7a0"
      },
      "source": [
        "import numpy as np\n",
        "from sklearn.ensemble import RandomForestClassifier\n",
        "from sklearn.model_selection import cross_val_score\n",
        "clf = RandomForestClassifier(n_estimators=20, max_depth=5)\n",
        "scores = cross_val_score(clf, x_train, y_train, cv = 10, n_jobs=-1)\n",
        "print(\"10 times\", scores)\n",
        "print(\"average\", np.average(scores))"
      ],
      "execution_count": 23,
      "outputs": [
        {
          "output_type": "stream",
          "text": [
            "10 times [0.83333333 0.87640449 0.7752809  0.88764045 0.84269663 0.82022472\n",
            " 0.84269663 0.79775281 0.87640449 0.84269663]\n",
            "average 0.8395131086142322\n"
          ],
          "name": "stdout"
        }
      ]
    }
  ]
}