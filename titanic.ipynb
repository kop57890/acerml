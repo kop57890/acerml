{
  "nbformat": 4,
  "nbformat_minor": 0,
  "metadata": {
    "colab": {
      "name": "titanic.ipynb",
      "provenance": [],
      "authorship_tag": "ABX9TyMjikDnxDDZ3UO5v2a206tk",
      "include_colab_link": true
    },
    "kernelspec": {
      "name": "python3",
      "display_name": "Python 3"
    }
  },
  "cells": [
    {
      "cell_type": "markdown",
      "metadata": {
        "id": "view-in-github",
        "colab_type": "text"
      },
      "source": [
        "<a href=\"https://colab.research.google.com/github/kop57890/acerml/blob/main/titanic.ipynb\" target=\"_parent\"><img src=\"https://colab.research.google.com/assets/colab-badge.svg\" alt=\"Open In Colab\"/></a>"
      ]
    },
    {
      "cell_type": "code",
      "metadata": {
        "id": "jBOD2gQmC16Q",
        "outputId": "3ae8010b-c8fa-49e2-8457-bc0dd28b85a2",
        "colab": {
          "base_uri": "https://localhost:8080/",
          "height": 34
        }
      },
      "source": [
        "from urllib.request import urlretrieve\n",
        "url = \"https://github.com/Elwing-Chou/acerml/raw/main/titanic/train.csv\"\n",
        "urlretrieve(url, \"train.csv\")\n",
        "url = \"https://github.com/Elwing-Chou/acerml/raw/main/titanic/test.csv\"\n",
        "urlretrieve(url, \"test.csv\")"
      ],
      "execution_count": 8,
      "outputs": [
        {
          "output_type": "execute_result",
          "data": {
            "text/plain": [
              "('test.csv', <http.client.HTTPMessage at 0x7fb9080808d0>)"
            ]
          },
          "metadata": {
            "tags": []
          },
          "execution_count": 8
        }
      ]
    },
    {
      "cell_type": "code",
      "metadata": {
        "id": "_Yh4xZGEC8P3"
      },
      "source": [
        "import pandas as pd\n",
        "train_df = pd.read_csv(\"train.csv\", encoding=\"utf-8\")\n",
        "test_df = pd.read_csv(\"test.csv\", encoding=\"utf-8\")"
      ],
      "execution_count": 9,
      "outputs": []
    },
    {
      "cell_type": "code",
      "metadata": {
        "id": "yMznTTRrIl5C"
      },
      "source": [
        "datas = pd.concat([train_df, test_df], axis = 0, ignore_index=True)\n",
        "datas = datas.drop([\"PassengerId\", \"Survived\"], axis = 1)"
      ],
      "execution_count": 10,
      "outputs": []
    },
    {
      "cell_type": "code",
      "metadata": {
        "id": "5eDNwry_JF0b",
        "outputId": "4ecb713f-969e-4db2-f5cf-ed8135afb16d",
        "colab": {
          "base_uri": "https://localhost:8080/",
          "height": 101
        }
      },
      "source": [
        "s = datas.isna().sum()\n",
        "s[s > 0].sort_values(ascending=False)"
      ],
      "execution_count": 11,
      "outputs": [
        {
          "output_type": "execute_result",
          "data": {
            "text/plain": [
              "Cabin       1014\n",
              "Age          263\n",
              "Embarked       2\n",
              "Fare           1\n",
              "dtype: int64"
            ]
          },
          "metadata": {
            "tags": []
          },
          "execution_count": 11
        }
      ]
    },
    {
      "cell_type": "code",
      "metadata": {
        "id": "eWW4LX0lKLN1"
      },
      "source": [
        "most = datas[\"Embarked\"].value_counts().idxmax()\n",
        "datas[\"Embarked\"] = datas[\"Embarked\"].fillna(most)"
      ],
      "execution_count": 12,
      "outputs": []
    },
    {
      "cell_type": "code",
      "metadata": {
        "id": "u-MiUkYZKiOv",
        "outputId": "d028f983-47dd-4a73-cc46-151442734967",
        "colab": {
          "base_uri": "https://localhost:8080/",
          "height": 50
        }
      },
      "source": [
        "med = datas.median().drop([\"Pclass\"])\n",
        "datas = datas.fillna(med)\n",
        "s = datas.isna().sum()\n",
        "s[s > 0].sort_values(ascending=False)"
      ],
      "execution_count": 14,
      "outputs": [
        {
          "output_type": "execute_result",
          "data": {
            "text/plain": [
              "Cabin    1014\n",
              "dtype: int64"
            ]
          },
          "metadata": {
            "tags": []
          },
          "execution_count": 14
        }
      ]
    },
    {
      "cell_type": "code",
      "metadata": {
        "id": "AsCMLjdIMYSf",
        "outputId": "c58d5f17-5236-4520-f930-6b22136db595",
        "colab": {
          "base_uri": "https://localhost:8080/",
          "height": 168
        }
      },
      "source": [
        "def cabinflow(c):\n",
        "  if pd.isna(c):\n",
        "    return c\n",
        "  else:\n",
        "    return c[0]\n",
        "datas[\"Cabin\"] = datas[\"Cabin\"].apply(cabinflow)\n",
        "datas[\"Cabin\"].value_counts()"
      ],
      "execution_count": 15,
      "outputs": [
        {
          "output_type": "execute_result",
          "data": {
            "text/plain": [
              "C    94\n",
              "B    65\n",
              "D    46\n",
              "E    41\n",
              "A    22\n",
              "F    21\n",
              "G     5\n",
              "T     1\n",
              "Name: Cabin, dtype: int64"
            ]
          },
          "metadata": {
            "tags": []
          },
          "execution_count": 15
        }
      ]
    },
    {
      "cell_type": "code",
      "metadata": {
        "id": "3UfsJ0VbNIaX",
        "outputId": "23be01e5-91ef-45fc-eb3e-650936454da1",
        "colab": {
          "base_uri": "https://localhost:8080/",
          "height": 168
        }
      },
      "source": [
        "dic = datas[\"Ticket\"].value_counts()\n",
        "def ticketflow(t):\n",
        "  return dic[t]\n",
        "datas[\"Ticket\"] = datas[\"Ticket\"].apply(ticketflow)\n",
        "datas[\"Ticket\"].value_counts()"
      ],
      "execution_count": 19,
      "outputs": [
        {
          "output_type": "execute_result",
          "data": {
            "text/plain": [
              "713    713\n",
              "264    264\n",
              "147    147\n",
              "35      70\n",
              "64      64\n",
              "24      24\n",
              "16      16\n",
              "11      11\n",
              "Name: Ticket, dtype: int64"
            ]
          },
          "metadata": {
            "tags": []
          },
          "execution_count": 19
        }
      ]
    }
  ]
}