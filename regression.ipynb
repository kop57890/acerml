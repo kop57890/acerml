{
  "nbformat": 4,
  "nbformat_minor": 0,
  "metadata": {
    "colab": {
      "name": "regression.ipynb",
      "provenance": [],
      "collapsed_sections": [],
      "mount_file_id": "1sFtj0vUQzmkzJYAEn7M4KPv8ogOI6JN8",
      "authorship_tag": "ABX9TyOPF2ZpPF8Ftap/Ro6mGvBH",
      "include_colab_link": true
    },
    "kernelspec": {
      "name": "python3",
      "display_name": "Python 3"
    }
  },
  "cells": [
    {
      "cell_type": "markdown",
      "metadata": {
        "id": "view-in-github",
        "colab_type": "text"
      },
      "source": [
        "<a href=\"https://colab.research.google.com/github/kop57890/acerml/blob/main/regression.ipynb\" target=\"_parent\"><img src=\"https://colab.research.google.com/assets/colab-badge.svg\" alt=\"Open In Colab\"/></a>"
      ]
    },
    {
      "cell_type": "code",
      "metadata": {
        "id": "a887cI7D8aWS",
        "outputId": "0a93f84a-9bea-486f-a15e-6e0949fb8c61",
        "colab": {
          "base_uri": "https://localhost:8080/",
          "height": 402
        }
      },
      "source": [
        "import pandas as pd\n",
        "from sklearn.datasets import load_boston\n",
        "boston = load_boston()\n",
        "df = pd.DataFrame(boston[\"data\"], columns = boston[\"feature_names\"])\n",
        "df[\"ans\"] = boston[\"target\"]\n",
        "df.to_csv(\"boston.csv\", encoding=\"utf-8\", index=False)\n",
        "df"
      ],
      "execution_count": null,
      "outputs": [
        {
          "output_type": "execute_result",
          "data": {
            "text/html": [
              "<div>\n",
              "<style scoped>\n",
              "    .dataframe tbody tr th:only-of-type {\n",
              "        vertical-align: middle;\n",
              "    }\n",
              "\n",
              "    .dataframe tbody tr th {\n",
              "        vertical-align: top;\n",
              "    }\n",
              "\n",
              "    .dataframe thead th {\n",
              "        text-align: right;\n",
              "    }\n",
              "</style>\n",
              "<table border=\"1\" class=\"dataframe\">\n",
              "  <thead>\n",
              "    <tr style=\"text-align: right;\">\n",
              "      <th></th>\n",
              "      <th>CRIM</th>\n",
              "      <th>ZN</th>\n",
              "      <th>INDUS</th>\n",
              "      <th>CHAS</th>\n",
              "      <th>NOX</th>\n",
              "      <th>RM</th>\n",
              "      <th>AGE</th>\n",
              "      <th>DIS</th>\n",
              "      <th>RAD</th>\n",
              "      <th>TAX</th>\n",
              "      <th>PTRATIO</th>\n",
              "      <th>B</th>\n",
              "      <th>LSTAT</th>\n",
              "      <th>ans</th>\n",
              "    </tr>\n",
              "  </thead>\n",
              "  <tbody>\n",
              "    <tr>\n",
              "      <th>0</th>\n",
              "      <td>0.00632</td>\n",
              "      <td>18.0</td>\n",
              "      <td>2.31</td>\n",
              "      <td>0.0</td>\n",
              "      <td>0.538</td>\n",
              "      <td>6.575</td>\n",
              "      <td>65.2</td>\n",
              "      <td>4.0900</td>\n",
              "      <td>1.0</td>\n",
              "      <td>296.0</td>\n",
              "      <td>15.3</td>\n",
              "      <td>396.90</td>\n",
              "      <td>4.98</td>\n",
              "      <td>24.0</td>\n",
              "    </tr>\n",
              "    <tr>\n",
              "      <th>1</th>\n",
              "      <td>0.02731</td>\n",
              "      <td>0.0</td>\n",
              "      <td>7.07</td>\n",
              "      <td>0.0</td>\n",
              "      <td>0.469</td>\n",
              "      <td>6.421</td>\n",
              "      <td>78.9</td>\n",
              "      <td>4.9671</td>\n",
              "      <td>2.0</td>\n",
              "      <td>242.0</td>\n",
              "      <td>17.8</td>\n",
              "      <td>396.90</td>\n",
              "      <td>9.14</td>\n",
              "      <td>21.6</td>\n",
              "    </tr>\n",
              "    <tr>\n",
              "      <th>2</th>\n",
              "      <td>0.02729</td>\n",
              "      <td>0.0</td>\n",
              "      <td>7.07</td>\n",
              "      <td>0.0</td>\n",
              "      <td>0.469</td>\n",
              "      <td>7.185</td>\n",
              "      <td>61.1</td>\n",
              "      <td>4.9671</td>\n",
              "      <td>2.0</td>\n",
              "      <td>242.0</td>\n",
              "      <td>17.8</td>\n",
              "      <td>392.83</td>\n",
              "      <td>4.03</td>\n",
              "      <td>34.7</td>\n",
              "    </tr>\n",
              "    <tr>\n",
              "      <th>3</th>\n",
              "      <td>0.03237</td>\n",
              "      <td>0.0</td>\n",
              "      <td>2.18</td>\n",
              "      <td>0.0</td>\n",
              "      <td>0.458</td>\n",
              "      <td>6.998</td>\n",
              "      <td>45.8</td>\n",
              "      <td>6.0622</td>\n",
              "      <td>3.0</td>\n",
              "      <td>222.0</td>\n",
              "      <td>18.7</td>\n",
              "      <td>394.63</td>\n",
              "      <td>2.94</td>\n",
              "      <td>33.4</td>\n",
              "    </tr>\n",
              "    <tr>\n",
              "      <th>4</th>\n",
              "      <td>0.06905</td>\n",
              "      <td>0.0</td>\n",
              "      <td>2.18</td>\n",
              "      <td>0.0</td>\n",
              "      <td>0.458</td>\n",
              "      <td>7.147</td>\n",
              "      <td>54.2</td>\n",
              "      <td>6.0622</td>\n",
              "      <td>3.0</td>\n",
              "      <td>222.0</td>\n",
              "      <td>18.7</td>\n",
              "      <td>396.90</td>\n",
              "      <td>5.33</td>\n",
              "      <td>36.2</td>\n",
              "    </tr>\n",
              "    <tr>\n",
              "      <th>...</th>\n",
              "      <td>...</td>\n",
              "      <td>...</td>\n",
              "      <td>...</td>\n",
              "      <td>...</td>\n",
              "      <td>...</td>\n",
              "      <td>...</td>\n",
              "      <td>...</td>\n",
              "      <td>...</td>\n",
              "      <td>...</td>\n",
              "      <td>...</td>\n",
              "      <td>...</td>\n",
              "      <td>...</td>\n",
              "      <td>...</td>\n",
              "      <td>...</td>\n",
              "    </tr>\n",
              "    <tr>\n",
              "      <th>501</th>\n",
              "      <td>0.06263</td>\n",
              "      <td>0.0</td>\n",
              "      <td>11.93</td>\n",
              "      <td>0.0</td>\n",
              "      <td>0.573</td>\n",
              "      <td>6.593</td>\n",
              "      <td>69.1</td>\n",
              "      <td>2.4786</td>\n",
              "      <td>1.0</td>\n",
              "      <td>273.0</td>\n",
              "      <td>21.0</td>\n",
              "      <td>391.99</td>\n",
              "      <td>9.67</td>\n",
              "      <td>22.4</td>\n",
              "    </tr>\n",
              "    <tr>\n",
              "      <th>502</th>\n",
              "      <td>0.04527</td>\n",
              "      <td>0.0</td>\n",
              "      <td>11.93</td>\n",
              "      <td>0.0</td>\n",
              "      <td>0.573</td>\n",
              "      <td>6.120</td>\n",
              "      <td>76.7</td>\n",
              "      <td>2.2875</td>\n",
              "      <td>1.0</td>\n",
              "      <td>273.0</td>\n",
              "      <td>21.0</td>\n",
              "      <td>396.90</td>\n",
              "      <td>9.08</td>\n",
              "      <td>20.6</td>\n",
              "    </tr>\n",
              "    <tr>\n",
              "      <th>503</th>\n",
              "      <td>0.06076</td>\n",
              "      <td>0.0</td>\n",
              "      <td>11.93</td>\n",
              "      <td>0.0</td>\n",
              "      <td>0.573</td>\n",
              "      <td>6.976</td>\n",
              "      <td>91.0</td>\n",
              "      <td>2.1675</td>\n",
              "      <td>1.0</td>\n",
              "      <td>273.0</td>\n",
              "      <td>21.0</td>\n",
              "      <td>396.90</td>\n",
              "      <td>5.64</td>\n",
              "      <td>23.9</td>\n",
              "    </tr>\n",
              "    <tr>\n",
              "      <th>504</th>\n",
              "      <td>0.10959</td>\n",
              "      <td>0.0</td>\n",
              "      <td>11.93</td>\n",
              "      <td>0.0</td>\n",
              "      <td>0.573</td>\n",
              "      <td>6.794</td>\n",
              "      <td>89.3</td>\n",
              "      <td>2.3889</td>\n",
              "      <td>1.0</td>\n",
              "      <td>273.0</td>\n",
              "      <td>21.0</td>\n",
              "      <td>393.45</td>\n",
              "      <td>6.48</td>\n",
              "      <td>22.0</td>\n",
              "    </tr>\n",
              "    <tr>\n",
              "      <th>505</th>\n",
              "      <td>0.04741</td>\n",
              "      <td>0.0</td>\n",
              "      <td>11.93</td>\n",
              "      <td>0.0</td>\n",
              "      <td>0.573</td>\n",
              "      <td>6.030</td>\n",
              "      <td>80.8</td>\n",
              "      <td>2.5050</td>\n",
              "      <td>1.0</td>\n",
              "      <td>273.0</td>\n",
              "      <td>21.0</td>\n",
              "      <td>396.90</td>\n",
              "      <td>7.88</td>\n",
              "      <td>11.9</td>\n",
              "    </tr>\n",
              "  </tbody>\n",
              "</table>\n",
              "<p>506 rows × 14 columns</p>\n",
              "</div>"
            ],
            "text/plain": [
              "        CRIM    ZN  INDUS  CHAS    NOX  ...    TAX  PTRATIO       B  LSTAT   ans\n",
              "0    0.00632  18.0   2.31   0.0  0.538  ...  296.0     15.3  396.90   4.98  24.0\n",
              "1    0.02731   0.0   7.07   0.0  0.469  ...  242.0     17.8  396.90   9.14  21.6\n",
              "2    0.02729   0.0   7.07   0.0  0.469  ...  242.0     17.8  392.83   4.03  34.7\n",
              "3    0.03237   0.0   2.18   0.0  0.458  ...  222.0     18.7  394.63   2.94  33.4\n",
              "4    0.06905   0.0   2.18   0.0  0.458  ...  222.0     18.7  396.90   5.33  36.2\n",
              "..       ...   ...    ...   ...    ...  ...    ...      ...     ...    ...   ...\n",
              "501  0.06263   0.0  11.93   0.0  0.573  ...  273.0     21.0  391.99   9.67  22.4\n",
              "502  0.04527   0.0  11.93   0.0  0.573  ...  273.0     21.0  396.90   9.08  20.6\n",
              "503  0.06076   0.0  11.93   0.0  0.573  ...  273.0     21.0  396.90   5.64  23.9\n",
              "504  0.10959   0.0  11.93   0.0  0.573  ...  273.0     21.0  393.45   6.48  22.0\n",
              "505  0.04741   0.0  11.93   0.0  0.573  ...  273.0     21.0  396.90   7.88  11.9\n",
              "\n",
              "[506 rows x 14 columns]"
            ]
          },
          "metadata": {
            "tags": []
          },
          "execution_count": 48
        }
      ]
    },
    {
      "cell_type": "code",
      "metadata": {
        "id": "Dprb4cKnJpkl"
      },
      "source": [
        "# sklearn前: pandas, sklearn後: np.array\n",
        "import numpy as np\n",
        "from sklearn.model_selection import train_test_split\n",
        "x = np.array(df.drop([\"ans\"], axis=1))\n",
        "y = np.array(df[\"ans\"])\n",
        "x_train, x_test, y_train, y_test = train_test_split(x, y, test_size=0.1)"
      ],
      "execution_count": null,
      "outputs": []
    },
    {
      "cell_type": "code",
      "metadata": {
        "id": "InZlgB4EM0HJ",
        "outputId": "0a6252bc-6498-40aa-c90d-98f94d453af6",
        "colab": {
          "base_uri": "https://localhost:8080/",
          "height": 118
        }
      },
      "source": [
        "from sklearn.tree import DecisionTreeRegressor\n",
        "reg = DecisionTreeRegressor(max_depth=6)\n",
        "reg.fit(x_train, y_train)"
      ],
      "execution_count": null,
      "outputs": [
        {
          "output_type": "execute_result",
          "data": {
            "text/plain": [
              "DecisionTreeRegressor(ccp_alpha=0.0, criterion='mse', max_depth=6,\n",
              "                      max_features=None, max_leaf_nodes=None,\n",
              "                      min_impurity_decrease=0.0, min_impurity_split=None,\n",
              "                      min_samples_leaf=1, min_samples_split=2,\n",
              "                      min_weight_fraction_leaf=0.0, presort='deprecated',\n",
              "                      random_state=None, splitter='best')"
            ]
          },
          "metadata": {
            "tags": []
          },
          "execution_count": 54
        }
      ]
    },
    {
      "cell_type": "code",
      "metadata": {
        "id": "hMZp84QYNWX6",
        "outputId": "b1adc917-b50d-49d1-97cb-e0f5517f2de7",
        "colab": {
          "base_uri": "https://localhost:8080/",
          "height": 634
        }
      },
      "source": [
        "import graphviz\n",
        "from sklearn.tree import export_graphviz\n",
        "g = export_graphviz(reg, feature_names=boston[\"feature_names\"], filled=True, max_depth=3)\n",
        "graphviz.Source(g)"
      ],
      "execution_count": null,
      "outputs": [
        {
          "output_type": "execute_result",
          "data": {
            "text/plain": [
              "<graphviz.files.Source at 0x7f4048fe3fd0>"
            ],
            "image/svg+xml": "<?xml version=\"1.0\" encoding=\"UTF-8\" standalone=\"no\"?>\n<!DOCTYPE svg PUBLIC \"-//W3C//DTD SVG 1.1//EN\"\n \"http://www.w3.org/Graphics/SVG/1.1/DTD/svg11.dtd\">\n<!-- Generated by graphviz version 2.40.1 (20161225.0304)\n -->\n<!-- Title: Tree Pages: 1 -->\n<svg width=\"1059pt\" height=\"460pt\"\n viewBox=\"0.00 0.00 1058.50 460.00\" xmlns=\"http://www.w3.org/2000/svg\" xmlns:xlink=\"http://www.w3.org/1999/xlink\">\n<g id=\"graph0\" class=\"graph\" transform=\"scale(1 1) rotate(0) translate(4 456)\">\n<title>Tree</title>\n<polygon fill=\"#ffffff\" stroke=\"transparent\" points=\"-4,4 -4,-456 1054.5,-456 1054.5,4 -4,4\"/>\n<!-- 0 -->\n<g id=\"node1\" class=\"node\">\n<title>0</title>\n<polygon fill=\"#f6d2b8\" stroke=\"#000000\" points=\"543.5,-452 425.5,-452 425.5,-384 543.5,-384 543.5,-452\"/>\n<text text-anchor=\"middle\" x=\"484.5\" y=\"-436.8\" font-family=\"Times,serif\" font-size=\"14.00\" fill=\"#000000\">LSTAT &lt;= 9.725</text>\n<text text-anchor=\"middle\" x=\"484.5\" y=\"-421.8\" font-family=\"Times,serif\" font-size=\"14.00\" fill=\"#000000\">mse = 85.098</text>\n<text text-anchor=\"middle\" x=\"484.5\" y=\"-406.8\" font-family=\"Times,serif\" font-size=\"14.00\" fill=\"#000000\">samples = 455</text>\n<text text-anchor=\"middle\" x=\"484.5\" y=\"-391.8\" font-family=\"Times,serif\" font-size=\"14.00\" fill=\"#000000\">value = 22.392</text>\n</g>\n<!-- 1 -->\n<g id=\"node2\" class=\"node\">\n<title>1</title>\n<polygon fill=\"#f1bc96\" stroke=\"#000000\" points=\"411.5,-348 307.5,-348 307.5,-280 411.5,-280 411.5,-348\"/>\n<text text-anchor=\"middle\" x=\"359.5\" y=\"-332.8\" font-family=\"Times,serif\" font-size=\"14.00\" fill=\"#000000\">RM &lt;= 6.978</text>\n<text text-anchor=\"middle\" x=\"359.5\" y=\"-317.8\" font-family=\"Times,serif\" font-size=\"14.00\" fill=\"#000000\">mse = 77.006</text>\n<text text-anchor=\"middle\" x=\"359.5\" y=\"-302.8\" font-family=\"Times,serif\" font-size=\"14.00\" fill=\"#000000\">samples = 192</text>\n<text text-anchor=\"middle\" x=\"359.5\" y=\"-287.8\" font-family=\"Times,serif\" font-size=\"14.00\" fill=\"#000000\">value = 29.698</text>\n</g>\n<!-- 0&#45;&gt;1 -->\n<g id=\"edge1\" class=\"edge\">\n<title>0&#45;&gt;1</title>\n<path fill=\"none\" stroke=\"#000000\" d=\"M443.5703,-383.9465C432.3472,-374.6088 420.0663,-364.3911 408.4427,-354.7203\"/>\n<polygon fill=\"#000000\" stroke=\"#000000\" points=\"410.4474,-351.8353 400.5216,-348.13 405.9704,-357.2164 410.4474,-351.8353\"/>\n<text text-anchor=\"middle\" x=\"402.8046\" y=\"-369.3255\" font-family=\"Times,serif\" font-size=\"14.00\" fill=\"#000000\">True</text>\n</g>\n<!-- 36 -->\n<g id=\"node15\" class=\"node\">\n<title>36</title>\n<polygon fill=\"#f9e1d0\" stroke=\"#000000\" points=\"667,-348 556,-348 556,-280 667,-280 667,-348\"/>\n<text text-anchor=\"middle\" x=\"611.5\" y=\"-332.8\" font-family=\"Times,serif\" font-size=\"14.00\" fill=\"#000000\">CRIM &lt;= 5.848</text>\n<text text-anchor=\"middle\" x=\"611.5\" y=\"-317.8\" font-family=\"Times,serif\" font-size=\"14.00\" fill=\"#000000\">mse = 23.587</text>\n<text text-anchor=\"middle\" x=\"611.5\" y=\"-302.8\" font-family=\"Times,serif\" font-size=\"14.00\" fill=\"#000000\">samples = 263</text>\n<text text-anchor=\"middle\" x=\"611.5\" y=\"-287.8\" font-family=\"Times,serif\" font-size=\"14.00\" fill=\"#000000\">value = 17.059</text>\n</g>\n<!-- 0&#45;&gt;36 -->\n<g id=\"edge14\" class=\"edge\">\n<title>0&#45;&gt;36</title>\n<path fill=\"none\" stroke=\"#000000\" d=\"M526.0845,-383.9465C537.4873,-374.6088 549.9647,-364.3911 561.7743,-354.7203\"/>\n<polygon fill=\"#000000\" stroke=\"#000000\" points=\"564.3026,-357.1736 569.822,-348.13 559.8676,-351.7578 564.3026,-357.1736\"/>\n<text text-anchor=\"middle\" x=\"567.3451\" y=\"-369.307\" font-family=\"Times,serif\" font-size=\"14.00\" fill=\"#000000\">False</text>\n</g>\n<!-- 2 -->\n<g id=\"node3\" class=\"node\">\n<title>2</title>\n<polygon fill=\"#f4c7a8\" stroke=\"#000000\" points=\"211.5,-244 107.5,-244 107.5,-176 211.5,-176 211.5,-244\"/>\n<text text-anchor=\"middle\" x=\"159.5\" y=\"-228.8\" font-family=\"Times,serif\" font-size=\"14.00\" fill=\"#000000\">DIS &lt;= 1.485</text>\n<text text-anchor=\"middle\" x=\"159.5\" y=\"-213.8\" font-family=\"Times,serif\" font-size=\"14.00\" fill=\"#000000\">mse = 35.219</text>\n<text text-anchor=\"middle\" x=\"159.5\" y=\"-198.8\" font-family=\"Times,serif\" font-size=\"14.00\" fill=\"#000000\">samples = 137</text>\n<text text-anchor=\"middle\" x=\"159.5\" y=\"-183.8\" font-family=\"Times,serif\" font-size=\"14.00\" fill=\"#000000\">value = 25.886</text>\n</g>\n<!-- 1&#45;&gt;2 -->\n<g id=\"edge2\" class=\"edge\">\n<title>1&#45;&gt;2</title>\n<path fill=\"none\" stroke=\"#000000\" d=\"M307.4745,-286.9467C280.9581,-273.1582 248.544,-256.3029 220.8193,-241.886\"/>\n<polygon fill=\"#000000\" stroke=\"#000000\" points=\"222.0991,-238.6066 211.6121,-237.0983 218.8695,-244.8171 222.0991,-238.6066\"/>\n</g>\n<!-- 19 -->\n<g id=\"node8\" class=\"node\">\n<title>19</title>\n<polygon fill=\"#eca16b\" stroke=\"#000000\" points=\"411.5,-244 307.5,-244 307.5,-176 411.5,-176 411.5,-244\"/>\n<text text-anchor=\"middle\" x=\"359.5\" y=\"-228.8\" font-family=\"Times,serif\" font-size=\"14.00\" fill=\"#000000\">RM &lt;= 7.437</text>\n<text text-anchor=\"middle\" x=\"359.5\" y=\"-213.8\" font-family=\"Times,serif\" font-size=\"14.00\" fill=\"#000000\">mse = 54.715</text>\n<text text-anchor=\"middle\" x=\"359.5\" y=\"-198.8\" font-family=\"Times,serif\" font-size=\"14.00\" fill=\"#000000\">samples = 55</text>\n<text text-anchor=\"middle\" x=\"359.5\" y=\"-183.8\" font-family=\"Times,serif\" font-size=\"14.00\" fill=\"#000000\">value = 39.195</text>\n</g>\n<!-- 1&#45;&gt;19 -->\n<g id=\"edge7\" class=\"edge\">\n<title>1&#45;&gt;19</title>\n<path fill=\"none\" stroke=\"#000000\" d=\"M359.5,-279.9465C359.5,-271.776 359.5,-262.9318 359.5,-254.3697\"/>\n<polygon fill=\"#000000\" stroke=\"#000000\" points=\"363.0001,-254.13 359.5,-244.13 356.0001,-254.13 363.0001,-254.13\"/>\n</g>\n<!-- 3 -->\n<g id=\"node4\" class=\"node\">\n<title>3</title>\n<polygon fill=\"#e58139\" stroke=\"#000000\" points=\"89,-132.5 0,-132.5 0,-79.5 89,-79.5 89,-132.5\"/>\n<text text-anchor=\"middle\" x=\"44.5\" y=\"-117.3\" font-family=\"Times,serif\" font-size=\"14.00\" fill=\"#000000\">mse = 0.0</text>\n<text text-anchor=\"middle\" x=\"44.5\" y=\"-102.3\" font-family=\"Times,serif\" font-size=\"14.00\" fill=\"#000000\">samples = 4</text>\n<text text-anchor=\"middle\" x=\"44.5\" y=\"-87.3\" font-family=\"Times,serif\" font-size=\"14.00\" fill=\"#000000\">value = 50.0</text>\n</g>\n<!-- 2&#45;&gt;3 -->\n<g id=\"edge3\" class=\"edge\">\n<title>2&#45;&gt;3</title>\n<path fill=\"none\" stroke=\"#000000\" d=\"M121.8447,-175.9465C108.8122,-164.1606 94.2294,-150.9726 81.2689,-139.2519\"/>\n<polygon fill=\"#000000\" stroke=\"#000000\" points=\"83.614,-136.6537 73.8495,-132.5422 78.9188,-141.8456 83.614,-136.6537\"/>\n</g>\n<!-- 4 -->\n<g id=\"node5\" class=\"node\">\n<title>4</title>\n<polygon fill=\"#f4caab\" stroke=\"#000000\" points=\"211.5,-140 107.5,-140 107.5,-72 211.5,-72 211.5,-140\"/>\n<text text-anchor=\"middle\" x=\"159.5\" y=\"-124.8\" font-family=\"Times,serif\" font-size=\"14.00\" fill=\"#000000\">RM &lt;= 6.544</text>\n<text text-anchor=\"middle\" x=\"159.5\" y=\"-109.8\" font-family=\"Times,serif\" font-size=\"14.00\" fill=\"#000000\">mse = 18.265</text>\n<text text-anchor=\"middle\" x=\"159.5\" y=\"-94.8\" font-family=\"Times,serif\" font-size=\"14.00\" fill=\"#000000\">samples = 133</text>\n<text text-anchor=\"middle\" x=\"159.5\" y=\"-79.8\" font-family=\"Times,serif\" font-size=\"14.00\" fill=\"#000000\">value = 25.161</text>\n</g>\n<!-- 2&#45;&gt;4 -->\n<g id=\"edge4\" class=\"edge\">\n<title>2&#45;&gt;4</title>\n<path fill=\"none\" stroke=\"#000000\" d=\"M159.5,-175.9465C159.5,-167.776 159.5,-158.9318 159.5,-150.3697\"/>\n<polygon fill=\"#000000\" stroke=\"#000000\" points=\"163.0001,-150.13 159.5,-140.13 156.0001,-150.13 163.0001,-150.13\"/>\n</g>\n<!-- 5 -->\n<g id=\"node6\" class=\"node\">\n<title>5</title>\n<polygon fill=\"#c0c0c0\" stroke=\"#000000\" points=\"114.5,-36 60.5,-36 60.5,0 114.5,0 114.5,-36\"/>\n<text text-anchor=\"middle\" x=\"87.5\" y=\"-14.3\" font-family=\"Times,serif\" font-size=\"14.00\" fill=\"#000000\">(...)</text>\n</g>\n<!-- 4&#45;&gt;5 -->\n<g id=\"edge5\" class=\"edge\">\n<title>4&#45;&gt;5</title>\n<path fill=\"none\" stroke=\"#000000\" d=\"M131.6629,-71.9769C124.1059,-62.7406 116.0424,-52.8851 108.9014,-44.1573\"/>\n<polygon fill=\"#000000\" stroke=\"#000000\" points=\"111.4256,-41.7152 102.3843,-36.192 106.0079,-46.1479 111.4256,-41.7152\"/>\n</g>\n<!-- 12 -->\n<g id=\"node7\" class=\"node\">\n<title>12</title>\n<polygon fill=\"#c0c0c0\" stroke=\"#000000\" points=\"186.5,-36 132.5,-36 132.5,0 186.5,0 186.5,-36\"/>\n<text text-anchor=\"middle\" x=\"159.5\" y=\"-14.3\" font-family=\"Times,serif\" font-size=\"14.00\" fill=\"#000000\">(...)</text>\n</g>\n<!-- 4&#45;&gt;12 -->\n<g id=\"edge6\" class=\"edge\">\n<title>4&#45;&gt;12</title>\n<path fill=\"none\" stroke=\"#000000\" d=\"M159.5,-71.9769C159.5,-63.5023 159.5,-54.5065 159.5,-46.3388\"/>\n<polygon fill=\"#000000\" stroke=\"#000000\" points=\"163.0001,-46.1919 159.5,-36.192 156.0001,-46.192 163.0001,-46.1919\"/>\n</g>\n<!-- 20 -->\n<g id=\"node9\" class=\"node\">\n<title>20</title>\n<polygon fill=\"#eeaf81\" stroke=\"#000000\" points=\"355,-140 244,-140 244,-72 355,-72 355,-140\"/>\n<text text-anchor=\"middle\" x=\"299.5\" y=\"-124.8\" font-family=\"Times,serif\" font-size=\"14.00\" fill=\"#000000\">CRIM &lt;= 6.135</text>\n<text text-anchor=\"middle\" x=\"299.5\" y=\"-109.8\" font-family=\"Times,serif\" font-size=\"14.00\" fill=\"#000000\">mse = 15.727</text>\n<text text-anchor=\"middle\" x=\"299.5\" y=\"-94.8\" font-family=\"Times,serif\" font-size=\"14.00\" fill=\"#000000\">samples = 29</text>\n<text text-anchor=\"middle\" x=\"299.5\" y=\"-79.8\" font-family=\"Times,serif\" font-size=\"14.00\" fill=\"#000000\">value = 34.255</text>\n</g>\n<!-- 19&#45;&gt;20 -->\n<g id=\"edge8\" class=\"edge\">\n<title>19&#45;&gt;20</title>\n<path fill=\"none\" stroke=\"#000000\" d=\"M339.8538,-175.9465C334.881,-167.3271 329.4757,-157.9579 324.2852,-148.9611\"/>\n<polygon fill=\"#000000\" stroke=\"#000000\" points=\"327.2193,-147.0428 319.1904,-140.13 321.156,-150.5409 327.2193,-147.0428\"/>\n</g>\n<!-- 29 -->\n<g id=\"node12\" class=\"node\">\n<title>29</title>\n<polygon fill=\"#e89051\" stroke=\"#000000\" points=\"479.5,-140 373.5,-140 373.5,-72 479.5,-72 479.5,-140\"/>\n<text text-anchor=\"middle\" x=\"426.5\" y=\"-124.8\" font-family=\"Times,serif\" font-size=\"14.00\" fill=\"#000000\">NOX &lt;= 0.683</text>\n<text text-anchor=\"middle\" x=\"426.5\" y=\"-109.8\" font-family=\"Times,serif\" font-size=\"14.00\" fill=\"#000000\">mse = 40.637</text>\n<text text-anchor=\"middle\" x=\"426.5\" y=\"-94.8\" font-family=\"Times,serif\" font-size=\"14.00\" fill=\"#000000\">samples = 26</text>\n<text text-anchor=\"middle\" x=\"426.5\" y=\"-79.8\" font-family=\"Times,serif\" font-size=\"14.00\" fill=\"#000000\">value = 44.704</text>\n</g>\n<!-- 19&#45;&gt;29 -->\n<g id=\"edge11\" class=\"edge\">\n<title>19&#45;&gt;29</title>\n<path fill=\"none\" stroke=\"#000000\" d=\"M381.4383,-175.9465C387.049,-167.2373 393.1529,-157.7626 399.0042,-148.6801\"/>\n<polygon fill=\"#000000\" stroke=\"#000000\" points=\"402.0389,-150.4321 404.5124,-140.13 396.1543,-146.641 402.0389,-150.4321\"/>\n</g>\n<!-- 21 -->\n<g id=\"node10\" class=\"node\">\n<title>21</title>\n<polygon fill=\"#c0c0c0\" stroke=\"#000000\" points=\"258.5,-36 204.5,-36 204.5,0 258.5,0 258.5,-36\"/>\n<text text-anchor=\"middle\" x=\"231.5\" y=\"-14.3\" font-family=\"Times,serif\" font-size=\"14.00\" fill=\"#000000\">(...)</text>\n</g>\n<!-- 20&#45;&gt;21 -->\n<g id=\"edge9\" class=\"edge\">\n<title>20&#45;&gt;21</title>\n<path fill=\"none\" stroke=\"#000000\" d=\"M273.2094,-71.9769C266.0723,-62.7406 258.4567,-52.8851 251.7125,-44.1573\"/>\n<polygon fill=\"#000000\" stroke=\"#000000\" points=\"254.4414,-41.9647 245.5574,-36.192 248.9024,-46.2449 254.4414,-41.9647\"/>\n</g>\n<!-- 28 -->\n<g id=\"node11\" class=\"node\">\n<title>28</title>\n<polygon fill=\"#c0c0c0\" stroke=\"#000000\" points=\"330.5,-36 276.5,-36 276.5,0 330.5,0 330.5,-36\"/>\n<text text-anchor=\"middle\" x=\"303.5\" y=\"-14.3\" font-family=\"Times,serif\" font-size=\"14.00\" fill=\"#000000\">(...)</text>\n</g>\n<!-- 20&#45;&gt;28 -->\n<g id=\"edge10\" class=\"edge\">\n<title>20&#45;&gt;28</title>\n<path fill=\"none\" stroke=\"#000000\" d=\"M301.0465,-71.9769C301.4317,-63.5023 301.8406,-54.5065 302.2119,-46.3388\"/>\n<polygon fill=\"#000000\" stroke=\"#000000\" points=\"305.7153,-46.3406 302.6731,-36.192 298.7225,-46.0227 305.7153,-46.3406\"/>\n</g>\n<!-- 30 -->\n<g id=\"node13\" class=\"node\">\n<title>30</title>\n<polygon fill=\"#c0c0c0\" stroke=\"#000000\" points=\"402.5,-36 348.5,-36 348.5,0 402.5,0 402.5,-36\"/>\n<text text-anchor=\"middle\" x=\"375.5\" y=\"-14.3\" font-family=\"Times,serif\" font-size=\"14.00\" fill=\"#000000\">(...)</text>\n</g>\n<!-- 29&#45;&gt;30 -->\n<g id=\"edge12\" class=\"edge\">\n<title>29&#45;&gt;30</title>\n<path fill=\"none\" stroke=\"#000000\" d=\"M406.7821,-71.9769C401.5948,-63.0262 396.0705,-53.4941 391.1305,-44.9703\"/>\n<polygon fill=\"#000000\" stroke=\"#000000\" points=\"394.0856,-43.089 386.0431,-36.192 388.0291,-46.599 394.0856,-43.089\"/>\n</g>\n<!-- 35 -->\n<g id=\"node14\" class=\"node\">\n<title>35</title>\n<polygon fill=\"#c0c0c0\" stroke=\"#000000\" points=\"474.5,-36 420.5,-36 420.5,0 474.5,0 474.5,-36\"/>\n<text text-anchor=\"middle\" x=\"447.5\" y=\"-14.3\" font-family=\"Times,serif\" font-size=\"14.00\" fill=\"#000000\">(...)</text>\n</g>\n<!-- 29&#45;&gt;35 -->\n<g id=\"edge13\" class=\"edge\">\n<title>29&#45;&gt;35</title>\n<path fill=\"none\" stroke=\"#000000\" d=\"M434.6191,-71.9769C436.6642,-63.4071 438.8365,-54.3043 440.803,-46.0638\"/>\n<polygon fill=\"#000000\" stroke=\"#000000\" points=\"444.2419,-46.7313 443.1587,-36.192 437.4331,-45.1064 444.2419,-46.7313\"/>\n</g>\n<!-- 37 -->\n<g id=\"node16\" class=\"node\">\n<title>37</title>\n<polygon fill=\"#f8dbc7\" stroke=\"#000000\" points=\"674,-244 549,-244 549,-176 674,-176 674,-244\"/>\n<text text-anchor=\"middle\" x=\"611.5\" y=\"-228.8\" font-family=\"Times,serif\" font-size=\"14.00\" fill=\"#000000\">LSTAT &lt;= 14.805</text>\n<text text-anchor=\"middle\" x=\"611.5\" y=\"-213.8\" font-family=\"Times,serif\" font-size=\"14.00\" fill=\"#000000\">mse = 13.652</text>\n<text text-anchor=\"middle\" x=\"611.5\" y=\"-198.8\" font-family=\"Times,serif\" font-size=\"14.00\" fill=\"#000000\">samples = 179</text>\n<text text-anchor=\"middle\" x=\"611.5\" y=\"-183.8\" font-family=\"Times,serif\" font-size=\"14.00\" fill=\"#000000\">value = 19.093</text>\n</g>\n<!-- 36&#45;&gt;37 -->\n<g id=\"edge15\" class=\"edge\">\n<title>36&#45;&gt;37</title>\n<path fill=\"none\" stroke=\"#000000\" d=\"M611.5,-279.9465C611.5,-271.776 611.5,-262.9318 611.5,-254.3697\"/>\n<polygon fill=\"#000000\" stroke=\"#000000\" points=\"615.0001,-254.13 611.5,-244.13 608.0001,-254.13 615.0001,-254.13\"/>\n</g>\n<!-- 66 -->\n<g id=\"node23\" class=\"node\">\n<title>66</title>\n<polygon fill=\"#fbeee4\" stroke=\"#000000\" points=\"870.5,-244 752.5,-244 752.5,-176 870.5,-176 870.5,-244\"/>\n<text text-anchor=\"middle\" x=\"811.5\" y=\"-228.8\" font-family=\"Times,serif\" font-size=\"14.00\" fill=\"#000000\">LSTAT &lt;= 19.85</text>\n<text text-anchor=\"middle\" x=\"811.5\" y=\"-213.8\" font-family=\"Times,serif\" font-size=\"14.00\" fill=\"#000000\">mse = 17.135</text>\n<text text-anchor=\"middle\" x=\"811.5\" y=\"-198.8\" font-family=\"Times,serif\" font-size=\"14.00\" fill=\"#000000\">samples = 84</text>\n<text text-anchor=\"middle\" x=\"811.5\" y=\"-183.8\" font-family=\"Times,serif\" font-size=\"14.00\" fill=\"#000000\">value = 12.723</text>\n</g>\n<!-- 36&#45;&gt;66 -->\n<g id=\"edge22\" class=\"edge\">\n<title>36&#45;&gt;66</title>\n<path fill=\"none\" stroke=\"#000000\" d=\"M667.2112,-285.0302C690.7846,-272.772 718.473,-258.3741 743.2573,-245.4862\"/>\n<polygon fill=\"#000000\" stroke=\"#000000\" points=\"744.9865,-248.532 752.244,-240.8131 741.757,-242.3215 744.9865,-248.532\"/>\n</g>\n<!-- 38 -->\n<g id=\"node17\" class=\"node\">\n<title>38</title>\n<polygon fill=\"#f7d7c0\" stroke=\"#000000\" points=\"604.5,-140 500.5,-140 500.5,-72 604.5,-72 604.5,-140\"/>\n<text text-anchor=\"middle\" x=\"552.5\" y=\"-124.8\" font-family=\"Times,serif\" font-size=\"14.00\" fill=\"#000000\">RM &lt;= 6.938</text>\n<text text-anchor=\"middle\" x=\"552.5\" y=\"-109.8\" font-family=\"Times,serif\" font-size=\"14.00\" fill=\"#000000\">mse = 9.16</text>\n<text text-anchor=\"middle\" x=\"552.5\" y=\"-94.8\" font-family=\"Times,serif\" font-size=\"14.00\" fill=\"#000000\">samples = 101</text>\n<text text-anchor=\"middle\" x=\"552.5\" y=\"-79.8\" font-family=\"Times,serif\" font-size=\"14.00\" fill=\"#000000\">value = 20.709</text>\n</g>\n<!-- 37&#45;&gt;38 -->\n<g id=\"edge16\" class=\"edge\">\n<title>37&#45;&gt;38</title>\n<path fill=\"none\" stroke=\"#000000\" d=\"M592.1812,-175.9465C587.2913,-167.3271 581.9761,-157.9579 576.8722,-148.9611\"/>\n<polygon fill=\"#000000\" stroke=\"#000000\" points=\"579.8408,-147.1008 571.8622,-140.13 573.7524,-150.5549 579.8408,-147.1008\"/>\n</g>\n<!-- 51 -->\n<g id=\"node20\" class=\"node\">\n<title>51</title>\n<polygon fill=\"#f9e1d1\" stroke=\"#000000\" points=\"728.5,-140 622.5,-140 622.5,-72 728.5,-72 728.5,-140\"/>\n<text text-anchor=\"middle\" x=\"675.5\" y=\"-124.8\" font-family=\"Times,serif\" font-size=\"14.00\" fill=\"#000000\">NOX &lt;= 0.531</text>\n<text text-anchor=\"middle\" x=\"675.5\" y=\"-109.8\" font-family=\"Times,serif\" font-size=\"14.00\" fill=\"#000000\">mse = 11.712</text>\n<text text-anchor=\"middle\" x=\"675.5\" y=\"-94.8\" font-family=\"Times,serif\" font-size=\"14.00\" fill=\"#000000\">samples = 78</text>\n<text text-anchor=\"middle\" x=\"675.5\" y=\"-79.8\" font-family=\"Times,serif\" font-size=\"14.00\" fill=\"#000000\">value = 17.001</text>\n</g>\n<!-- 37&#45;&gt;51 -->\n<g id=\"edge19\" class=\"edge\">\n<title>37&#45;&gt;51</title>\n<path fill=\"none\" stroke=\"#000000\" d=\"M632.456,-175.9465C637.8155,-167.2373 643.6461,-157.7626 649.2353,-148.6801\"/>\n<polygon fill=\"#000000\" stroke=\"#000000\" points=\"652.2367,-150.481 654.4969,-140.13 646.2751,-146.8122 652.2367,-150.481\"/>\n</g>\n<!-- 39 -->\n<g id=\"node18\" class=\"node\">\n<title>39</title>\n<polygon fill=\"#c0c0c0\" stroke=\"#000000\" points=\"546.5,-36 492.5,-36 492.5,0 546.5,0 546.5,-36\"/>\n<text text-anchor=\"middle\" x=\"519.5\" y=\"-14.3\" font-family=\"Times,serif\" font-size=\"14.00\" fill=\"#000000\">(...)</text>\n</g>\n<!-- 38&#45;&gt;39 -->\n<g id=\"edge17\" class=\"edge\">\n<title>38&#45;&gt;39</title>\n<path fill=\"none\" stroke=\"#000000\" d=\"M539.7413,-71.9769C536.492,-63.3119 533.0382,-54.102 529.921,-45.7894\"/>\n<polygon fill=\"#000000\" stroke=\"#000000\" points=\"533.1104,-44.3263 526.322,-36.192 526.5561,-46.7842 533.1104,-44.3263\"/>\n</g>\n<!-- 46 -->\n<g id=\"node19\" class=\"node\">\n<title>46</title>\n<polygon fill=\"#c0c0c0\" stroke=\"#000000\" points=\"618.5,-36 564.5,-36 564.5,0 618.5,0 618.5,-36\"/>\n<text text-anchor=\"middle\" x=\"591.5\" y=\"-14.3\" font-family=\"Times,serif\" font-size=\"14.00\" fill=\"#000000\">(...)</text>\n</g>\n<!-- 38&#45;&gt;46 -->\n<g id=\"edge18\" class=\"edge\">\n<title>38&#45;&gt;46</title>\n<path fill=\"none\" stroke=\"#000000\" d=\"M567.5784,-71.9769C571.4608,-63.2167 575.59,-53.8995 579.3055,-45.5157\"/>\n<polygon fill=\"#000000\" stroke=\"#000000\" points=\"582.5857,-46.7525 583.4377,-36.192 576.186,-43.9162 582.5857,-46.7525\"/>\n</g>\n<!-- 52 -->\n<g id=\"node21\" class=\"node\">\n<title>52</title>\n<polygon fill=\"#c0c0c0\" stroke=\"#000000\" points=\"690.5,-36 636.5,-36 636.5,0 690.5,0 690.5,-36\"/>\n<text text-anchor=\"middle\" x=\"663.5\" y=\"-14.3\" font-family=\"Times,serif\" font-size=\"14.00\" fill=\"#000000\">(...)</text>\n</g>\n<!-- 51&#45;&gt;52 -->\n<g id=\"edge20\" class=\"edge\">\n<title>51&#45;&gt;52</title>\n<path fill=\"none\" stroke=\"#000000\" d=\"M670.8605,-71.9769C669.7049,-63.5023 668.4782,-54.5065 667.3644,-46.3388\"/>\n<polygon fill=\"#000000\" stroke=\"#000000\" points=\"670.7998,-45.6273 665.9807,-36.192 663.864,-46.5732 670.7998,-45.6273\"/>\n</g>\n<!-- 59 -->\n<g id=\"node22\" class=\"node\">\n<title>59</title>\n<polygon fill=\"#c0c0c0\" stroke=\"#000000\" points=\"762.5,-36 708.5,-36 708.5,0 762.5,0 762.5,-36\"/>\n<text text-anchor=\"middle\" x=\"735.5\" y=\"-14.3\" font-family=\"Times,serif\" font-size=\"14.00\" fill=\"#000000\">(...)</text>\n</g>\n<!-- 51&#45;&gt;59 -->\n<g id=\"edge21\" class=\"edge\">\n<title>51&#45;&gt;59</title>\n<path fill=\"none\" stroke=\"#000000\" d=\"M698.6976,-71.9769C704.8652,-62.931 711.4378,-53.2913 717.2964,-44.6986\"/>\n<polygon fill=\"#000000\" stroke=\"#000000\" points=\"720.3548,-46.4259 723.0964,-36.192 714.5712,-42.4825 720.3548,-46.4259\"/>\n</g>\n<!-- 67 -->\n<g id=\"node24\" class=\"node\">\n<title>67</title>\n<polygon fill=\"#fae7d9\" stroke=\"#000000\" points=\"874,-140 749,-140 749,-72 874,-72 874,-140\"/>\n<text text-anchor=\"middle\" x=\"811.5\" y=\"-124.8\" font-family=\"Times,serif\" font-size=\"14.00\" fill=\"#000000\">LSTAT &lt;= 19.775</text>\n<text text-anchor=\"middle\" x=\"811.5\" y=\"-109.8\" font-family=\"Times,serif\" font-size=\"14.00\" fill=\"#000000\">mse = 15.088</text>\n<text text-anchor=\"middle\" x=\"811.5\" y=\"-94.8\" font-family=\"Times,serif\" font-size=\"14.00\" fill=\"#000000\">samples = 38</text>\n<text text-anchor=\"middle\" x=\"811.5\" y=\"-79.8\" font-family=\"Times,serif\" font-size=\"14.00\" fill=\"#000000\">value = 15.15</text>\n</g>\n<!-- 66&#45;&gt;67 -->\n<g id=\"edge23\" class=\"edge\">\n<title>66&#45;&gt;67</title>\n<path fill=\"none\" stroke=\"#000000\" d=\"M811.5,-175.9465C811.5,-167.776 811.5,-158.9318 811.5,-150.3697\"/>\n<polygon fill=\"#000000\" stroke=\"#000000\" points=\"815.0001,-150.13 811.5,-140.13 808.0001,-150.13 815.0001,-150.13\"/>\n</g>\n<!-- 76 -->\n<g id=\"node27\" class=\"node\">\n<title>76</title>\n<polygon fill=\"#fdf4ed\" stroke=\"#000000\" points=\"1004.5,-140 898.5,-140 898.5,-72 1004.5,-72 1004.5,-140\"/>\n<text text-anchor=\"middle\" x=\"951.5\" y=\"-124.8\" font-family=\"Times,serif\" font-size=\"14.00\" fill=\"#000000\">NOX &lt;= 0.675</text>\n<text text-anchor=\"middle\" x=\"951.5\" y=\"-109.8\" font-family=\"Times,serif\" font-size=\"14.00\" fill=\"#000000\">mse = 9.937</text>\n<text text-anchor=\"middle\" x=\"951.5\" y=\"-94.8\" font-family=\"Times,serif\" font-size=\"14.00\" fill=\"#000000\">samples = 46</text>\n<text text-anchor=\"middle\" x=\"951.5\" y=\"-79.8\" font-family=\"Times,serif\" font-size=\"14.00\" fill=\"#000000\">value = 10.717</text>\n</g>\n<!-- 66&#45;&gt;76 -->\n<g id=\"edge26\" class=\"edge\">\n<title>66&#45;&gt;76</title>\n<path fill=\"none\" stroke=\"#000000\" d=\"M857.3412,-175.9465C870.1529,-166.4293 884.1952,-155.9978 897.4344,-146.163\"/>\n<polygon fill=\"#000000\" stroke=\"#000000\" points=\"899.6155,-148.9029 905.5558,-140.13 895.4412,-143.2837 899.6155,-148.9029\"/>\n</g>\n<!-- 68 -->\n<g id=\"node25\" class=\"node\">\n<title>68</title>\n<polygon fill=\"#c0c0c0\" stroke=\"#000000\" points=\"834.5,-36 780.5,-36 780.5,0 834.5,0 834.5,-36\"/>\n<text text-anchor=\"middle\" x=\"807.5\" y=\"-14.3\" font-family=\"Times,serif\" font-size=\"14.00\" fill=\"#000000\">(...)</text>\n</g>\n<!-- 67&#45;&gt;68 -->\n<g id=\"edge24\" class=\"edge\">\n<title>67&#45;&gt;68</title>\n<path fill=\"none\" stroke=\"#000000\" d=\"M809.9535,-71.9769C809.5683,-63.5023 809.1594,-54.5065 808.7881,-46.3388\"/>\n<polygon fill=\"#000000\" stroke=\"#000000\" points=\"812.2775,-46.0227 808.3269,-36.192 805.2847,-46.3406 812.2775,-46.0227\"/>\n</g>\n<!-- 75 -->\n<g id=\"node26\" class=\"node\">\n<title>75</title>\n<polygon fill=\"#c0c0c0\" stroke=\"#000000\" points=\"906.5,-36 852.5,-36 852.5,0 906.5,0 906.5,-36\"/>\n<text text-anchor=\"middle\" x=\"879.5\" y=\"-14.3\" font-family=\"Times,serif\" font-size=\"14.00\" fill=\"#000000\">(...)</text>\n</g>\n<!-- 67&#45;&gt;75 -->\n<g id=\"edge25\" class=\"edge\">\n<title>67&#45;&gt;75</title>\n<path fill=\"none\" stroke=\"#000000\" d=\"M837.7906,-71.9769C844.9277,-62.7406 852.5433,-52.8851 859.2875,-44.1573\"/>\n<polygon fill=\"#000000\" stroke=\"#000000\" points=\"862.0976,-46.2449 865.4426,-36.192 856.5586,-41.9647 862.0976,-46.2449\"/>\n</g>\n<!-- 77 -->\n<g id=\"node28\" class=\"node\">\n<title>77</title>\n<polygon fill=\"#c0c0c0\" stroke=\"#000000\" points=\"978.5,-36 924.5,-36 924.5,0 978.5,0 978.5,-36\"/>\n<text text-anchor=\"middle\" x=\"951.5\" y=\"-14.3\" font-family=\"Times,serif\" font-size=\"14.00\" fill=\"#000000\">(...)</text>\n</g>\n<!-- 76&#45;&gt;77 -->\n<g id=\"edge27\" class=\"edge\">\n<title>76&#45;&gt;77</title>\n<path fill=\"none\" stroke=\"#000000\" d=\"M951.5,-71.9769C951.5,-63.5023 951.5,-54.5065 951.5,-46.3388\"/>\n<polygon fill=\"#000000\" stroke=\"#000000\" points=\"955.0001,-46.1919 951.5,-36.192 948.0001,-46.192 955.0001,-46.1919\"/>\n</g>\n<!-- 84 -->\n<g id=\"node29\" class=\"node\">\n<title>84</title>\n<polygon fill=\"#c0c0c0\" stroke=\"#000000\" points=\"1050.5,-36 996.5,-36 996.5,0 1050.5,0 1050.5,-36\"/>\n<text text-anchor=\"middle\" x=\"1023.5\" y=\"-14.3\" font-family=\"Times,serif\" font-size=\"14.00\" fill=\"#000000\">(...)</text>\n</g>\n<!-- 76&#45;&gt;84 -->\n<g id=\"edge28\" class=\"edge\">\n<title>76&#45;&gt;84</title>\n<path fill=\"none\" stroke=\"#000000\" d=\"M979.3371,-71.9769C986.8941,-62.7406 994.9576,-52.8851 1002.0986,-44.1573\"/>\n<polygon fill=\"#000000\" stroke=\"#000000\" points=\"1004.9921,-46.1479 1008.6157,-36.192 999.5744,-41.7152 1004.9921,-46.1479\"/>\n</g>\n</g>\n</svg>\n"
          },
          "metadata": {
            "tags": []
          },
          "execution_count": 57
        }
      ]
    },
    {
      "cell_type": "code",
      "metadata": {
        "id": "2qoKJTm8lPcf",
        "outputId": "6400c10b-879d-4652-bf41-cbb69579dd76",
        "colab": {
          "base_uri": "https://localhost:8080/",
          "height": 202
        }
      },
      "source": [
        "pre = reg.predict(x_test)\n",
        "pre"
      ],
      "execution_count": null,
      "outputs": [
        {
          "output_type": "execute_result",
          "data": {
            "text/plain": [
              "array([19.67192982, 21.0974359 , 25.92068966, 44.73333333, 15.75581395,\n",
              "       21.0974359 , 32.45      , 19.67192982, 19.67192982, 19.67192982,\n",
              "       19.67192982, 34.91538462, 21.0974359 , 21.2       , 19.67192982,\n",
              "       30.6       , 21.2       , 11.225     , 25.92068966, 11.6125    ,\n",
              "       44.73333333, 23.46724138, 15.75581395, 23.46724138, 21.0974359 ,\n",
              "       32.45      , 20.54736842,  8.84444444, 34.91538462, 44.73333333,\n",
              "       19.67192982, 20.54736842, 25.92068966, 29.6       , 19.67192982,\n",
              "       15.75581395, 15.75581395, 20.65625   , 21.0974359 , 15.75581395,\n",
              "       44.73333333, 21.2       , 23.46724138, 23.46724138, 21.0974359 ,\n",
              "       20.54736842, 23.46724138, 15.75581395, 15.75581395, 14.75652174,\n",
              "       21.0974359 ])"
            ]
          },
          "metadata": {
            "tags": []
          },
          "execution_count": 55
        }
      ]
    },
    {
      "cell_type": "code",
      "metadata": {
        "id": "hYbsSQ0N6T-r",
        "outputId": "efcf74fa-5291-4be8-f679-96b7ebd63643",
        "colab": {
          "base_uri": "https://localhost:8080/",
          "height": 34
        }
      },
      "source": [
        "from sklearn.metrics import r2_score\n",
        "r2_score(y_test, pre)"
      ],
      "execution_count": null,
      "outputs": [
        {
          "output_type": "execute_result",
          "data": {
            "text/plain": [
              "0.7755738857487713"
            ]
          },
          "metadata": {
            "tags": []
          },
          "execution_count": 56
        }
      ]
    }
  ]
}